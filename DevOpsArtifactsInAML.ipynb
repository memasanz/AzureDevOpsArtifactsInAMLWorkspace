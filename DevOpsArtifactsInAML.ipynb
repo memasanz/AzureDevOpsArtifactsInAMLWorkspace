{
 "cells": [
  {
   "cell_type": "markdown",
   "id": "0c83391e",
   "metadata": {},
   "source": [
    "## Create Azure DevOps Feed\n",
    "\n",
    "documentation: https://docs.microsoft.com/en-us/azure/devops/artifacts/quickstarts/python-packages?view=azure-devops&tabs=new-nav&viewFallbackFrom=vsts"
   ]
  },
  {
   "cell_type": "code",
   "execution_count": null,
   "id": "154d01b0",
   "metadata": {},
   "outputs": [],
   "source": [
    "from IPython.display import Image\n",
    "Image(filename='./img/001_CreateFeed.JPG') "
   ]
  },
  {
   "cell_type": "markdown",
   "id": "f59c550a",
   "metadata": {},
   "source": [
    "## Create a Personal Access Token.  \n",
    "\n",
    "- Store the PAT in the key vault associated with your AML workspace\n",
    "- Name the secret: **azuredevopspat**"
   ]
  },
  {
   "cell_type": "code",
   "execution_count": null,
   "id": "b39841c8",
   "metadata": {},
   "outputs": [],
   "source": [
    "from IPython.display import Image\n",
    "Image(filename='./img/002_CreatePAT.JPG')"
   ]
  },
  {
   "cell_type": "markdown",
   "id": "e2a5c912",
   "metadata": {},
   "source": [
    "## Connect to your feed\n",
    "\n",
    "- In Azure DevOps Click on **Connect to feed**, then select pip.  Grab the index url and place that into your key vault under the variable: **indexurl**\n",
    "\n",
    "- Also add your devOps Organization to your key vault under the variable: **devopsorganizationname**"
   ]
  },
  {
   "cell_type": "code",
   "execution_count": null,
   "id": "6488b7df",
   "metadata": {},
   "outputs": [],
   "source": [
    "from IPython.display import Image\n",
    "Image(filename='./img/003_geturl.JPG')"
   ]
  },
  {
   "cell_type": "code",
   "execution_count": null,
   "id": "4bf5dc17",
   "metadata": {},
   "outputs": [],
   "source": [
    "from azureml.core import Workspace\n",
    "ws = Workspace.from_config()\n",
    "keyvault = ws.get_default_keyvault()\n",
    "kv_results = keyvault.get_secret('azuredevopspat')\n",
    "devops_organization_name = keyvault.get_secret('devopsorganizationname')\n",
    "index_url = keyvault.get_secret('indexurl')"
   ]
  },
  {
   "cell_type": "markdown",
   "id": "dbb2cb7f",
   "metadata": {},
   "source": [
    "## Connect to DevOps Artifact Feed"
   ]
  },
  {
   "cell_type": "code",
   "execution_count": null,
   "id": "0c543b14",
   "metadata": {},
   "outputs": [],
   "source": [
    "ws.set_connection(name=\"connection-1\", \n",
    "   category = \"PythonFeed\",\n",
    "   target = \"https://pkgs.dev.azure.com/\" + devops_organization_name, \n",
    "   authType = \"PAT\", \n",
    "   value = kv_results) "
   ]
  },
  {
   "cell_type": "markdown",
   "id": "4859d0a9",
   "metadata": {},
   "source": [
    "## Create an environment \n",
    "\n",
    "- Include packages from the feed"
   ]
  },
  {
   "cell_type": "code",
   "execution_count": null,
   "id": "4361edd2",
   "metadata": {},
   "outputs": [],
   "source": [
    "from azureml.core import Environment\n",
    "from azureml.core.conda_dependencies import CondaDependencies\n",
    "\n",
    "env = Environment(name=\"my-env\")\n",
    "cd = CondaDependencies()\n",
    "cd.add_pip_package(\"pandas\")\n",
    "cd.set_pip_option(\"--extra-index-url \" + index_url)\n",
    "env.python.conda_dependencies=cd"
   ]
  },
  {
   "cell_type": "markdown",
   "id": "4a515cd6",
   "metadata": {},
   "source": [
    "## Register the environment so it can be built"
   ]
  },
  {
   "cell_type": "code",
   "execution_count": null,
   "id": "137e1f87",
   "metadata": {},
   "outputs": [],
   "source": [
    "env.register(workspace=ws)\n",
    "registered_env = Environment.get(ws, \"my-env\")\n",
    "print(registered_env)"
   ]
  },
  {
   "cell_type": "markdown",
   "id": "b5fbf9df",
   "metadata": {},
   "source": [
    "### Build Image"
   ]
  },
  {
   "cell_type": "code",
   "execution_count": null,
   "id": "e2e19155",
   "metadata": {},
   "outputs": [],
   "source": [
    "from IPython.display import Image\n",
    "Image(filename='./img/004_environment_build.jpg')"
   ]
  },
  {
   "cell_type": "code",
   "execution_count": null,
   "id": "6bda220a",
   "metadata": {},
   "outputs": [],
   "source": []
  }
 ],
 "metadata": {
  "kernelspec": {
   "display_name": "Python 3.8 - AzureML",
   "language": "python",
   "name": "python38-azureml"
  },
  "language_info": {
   "codemirror_mode": {
    "name": "ipython",
    "version": 3
   },
   "file_extension": ".py",
   "mimetype": "text/x-python",
   "name": "python",
   "nbconvert_exporter": "python",
   "pygments_lexer": "ipython3",
   "version": "3.8.13"
  }
 },
 "nbformat": 4,
 "nbformat_minor": 5
}
